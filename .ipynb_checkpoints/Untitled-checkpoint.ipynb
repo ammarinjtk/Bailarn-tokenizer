{
 "cells": [
  {
   "cell_type": "code",
   "execution_count": 86,
   "metadata": {},
   "outputs": [
    {
     "name": "stdout",
     "output_type": "stream",
     "text": [
      "The autoreload extension is already loaded. To reload it, use:\n",
      "  %reload_ext autoreload\n"
     ]
    }
   ],
   "source": [
    "%load_ext autoreload\n",
    "%autoreload 2\n",
    "\n",
    "from utils import Corpus, InputBuilder, index_builder, DottableDict"
   ]
  },
  {
   "cell_type": "code",
   "execution_count": 98,
   "metadata": {},
   "outputs": [
    {
     "name": "stdout",
     "output_type": "stream",
     "text": [
      "It's a single string\n"
     ]
    }
   ],
   "source": [
    "x = \"สวัสดี\"\n",
    "if isinstance(x, str):\n",
    "    print(\"It's a single string\")\n",
    "else:\n",
    "    try:\n",
    "        if all(isinstance(y, str) for y in x):\n",
    "            print(\"It's a list of strings\")\n",
    "    except TypeError:\n",
    "        pass\n",
    "    "
   ]
  },
  {
   "cell_type": "code",
   "execution_count": 49,
   "metadata": {},
   "outputs": [
    {
     "data": {
      "text/plain": [
       "1"
      ]
     },
     "execution_count": 49,
     "metadata": {},
     "output_type": "execute_result"
    }
   ],
   "source": [
    "train_dataset = Corpus(\"BEST2010_I2R/txt_data\", \"|\", \"/\")\n",
    "train_dataset.count"
   ]
  },
  {
   "cell_type": "code",
   "execution_count": 56,
   "metadata": {},
   "outputs": [
    {
     "data": {
      "text/plain": [
       "418"
      ]
     },
     "execution_count": 56,
     "metadata": {},
     "output_type": "execute_result"
    }
   ],
   "source": [
    "len(train_dataset.get_token_list(idx))"
   ]
  },
  {
   "cell_type": "code",
   "execution_count": 50,
   "metadata": {},
   "outputs": [
    {
     "data": {
      "text/plain": [
       "418"
      ]
     },
     "execution_count": 50,
     "metadata": {},
     "output_type": "execute_result"
    }
   ],
   "source": [
    "count = 0\n",
    "for idx in range(train_dataset.count):\n",
    "    count += len(train_dataset.get_token_list(idx))\n",
    "count"
   ]
  },
  {
   "cell_type": "code",
   "execution_count": 79,
   "metadata": {},
   "outputs": [
    {
     "data": {
      "text/plain": [
       "[('สุรยุทธ์', 'NR'),\n",
       " ('ยัน', 'VV'),\n",
       " ('ปฏิเสธ', 'VV'),\n",
       " ('ลงนาม', 'VV'),\n",
       " ('MOU', 'FWN'),\n",
       " ('กับ', 'P'),\n",
       " ('อียู', 'NR'),\n",
       " ('ไม่', 'NEG'),\n",
       " ('กระทบ', 'JJV'),\n",
       " ('สัมพันธ์', 'VV'),\n",
       " (' ', 0),\n",
       " ('1', 'OD'),\n",
       " (' ', 0),\n",
       " ('กันยายน', 'NN'),\n",
       " (' ', 0),\n",
       " ('2550', 'OD'),\n",
       " ('12:21', 'OD'),\n",
       " ('น.', 'CL'),\n",
       " (' ', 0),\n",
       " ('นายก', 'NN'),\n",
       " ('ฯ', 'PU'),\n",
       " (' ', 0),\n",
       " ('ย้ำ', 'VV'),\n",
       " ('ไม่', 'NEG'),\n",
       " ('ลงนาม', 'VV'),\n",
       " ('ใน', 'P'),\n",
       " ('MOU', 'FWN'),\n",
       " ('ร่วม', 'VV'),\n",
       " ('กับ', 'P'),\n",
       " ('อียู', 'NR'),\n",
       " ('กรณี', 'NN'),\n",
       " ('ที่', 'COMP'),\n",
       " ('จะ', 'AUX'),\n",
       " ('เข้า', 'VV'),\n",
       " ('มา', 'VV'),\n",
       " ('สังเกต', 'VV'),\n",
       " ('การณ์', 'NN'),\n",
       " ('การ', 'FXN'),\n",
       " ('เลือกตั้ง', 'VV'),\n",
       " ('ของ', 'P'),\n",
       " ('ไทย', 'NR'),\n",
       " ('ใน', 'P'),\n",
       " ('ลักษณะ', 'NN'),\n",
       " ('เข้า', 'VV'),\n",
       " ('มา', 'VV'),\n",
       " ('ตรวจสอบ', 'VV'),\n",
       " (' ', 0),\n",
       " ('ยัน', 'VV'),\n",
       " ('ไทย', 'NR'),\n",
       " ('ไม่', 'NEG'),\n",
       " ('ได้', 'AUX'),\n",
       " ('ล้มเหลว', 'VV'),\n",
       " ('ถึง', 'VV'),\n",
       " ('ขั้น', 'NN'),\n",
       " ('นั้น', 'DDEM'),\n",
       " ('เชื่อ', 'VV'),\n",
       " ('การ', 'FXN'),\n",
       " ('ปฏิเสธ', 'VV'),\n",
       " ('เรื่อง', 'NN'),\n",
       " ('ดัง', 'P'),\n",
       " ('กล่าว', 'VV'),\n",
       " ('ไม่', 'NEG'),\n",
       " ('กระทบ', 'VV'),\n",
       " ('สัมพันธ์', 'VV'),\n",
       " ('ที่', 'COMP'),\n",
       " ('มี', 'VV'),\n",
       " ('ต่อ', 'REFX'),\n",
       " ('กัน', 'REFX'),\n",
       " (' ', 0),\n",
       " ('พร้อม', 'CNJ'),\n",
       " ('หนุน', 'VV'),\n",
       " ('กกต.', 'NR'),\n",
       " ('จัด', 'VV'),\n",
       " ('เลือกตั้ง', 'VV'),\n",
       " ('ให้', 'COMP'),\n",
       " ('บริสุทธิ์', 'VA'),\n",
       " ('ยุติธรรม', 'ADV'),\n",
       " (' ', 0),\n",
       " ('(', 'PU'),\n",
       " ('1', 'OD'),\n",
       " ('ก.ย.', 'NN'),\n",
       " (')', 'PU'),\n",
       " ('พล.อ.', 'NN'),\n",
       " ('สุรยุทธ์', 'NR'),\n",
       " (' ', 0),\n",
       " ('จุลานนท์', 'NR'),\n",
       " (' ', 0),\n",
       " ('กล่าว', 'VV'),\n",
       " ('รายการ', 'NN'),\n",
       " ('เปิด', 'VV'),\n",
       " ('บ้านพิษณุโลก', 'NR'),\n",
       " ('ออกอากาศ', 'VV'),\n",
       " ('ทาง', 'NN'),\n",
       " ('สถานี', 'NN'),\n",
       " ('วิทยุ', 'NN'),\n",
       " ('โทรทัศน์', 'NN'),\n",
       " ('แห่ง', 'NN'),\n",
       " ('ประเทศ', 'NN'),\n",
       " ('ไทย', 'NR'),\n",
       " ('ช่อง', 'NN'),\n",
       " ('11', 'OD'),\n",
       " ('กรม', 'NN'),\n",
       " ('ประชาสัมพันธ์', 'JJV'),\n",
       " (' ', 0),\n",
       " (' ', 0),\n",
       " ('กรณี', 'NN'),\n",
       " ('ที่', 'COMP'),\n",
       " ('สหภาพ', 'NN'),\n",
       " ('ยุโรป', 'NR'),\n",
       " (' ', 0),\n",
       " ('(', 'PU'),\n",
       " ('อียู', 'NR'),\n",
       " (')', 'PU'),\n",
       " ('จะ', 'AUX'),\n",
       " ('ขอ', 'VV'),\n",
       " ('เข้า', 'VV'),\n",
       " ('มา', 'VV'),\n",
       " ('สังเกต', 'VV'),\n",
       " ('การณ์', 'NN'),\n",
       " ('การ', 'FXN'),\n",
       " ('เลือกตั้ง', 'VV'),\n",
       " ('ของ', 'P'),\n",
       " ('ไทย', 'NR'),\n",
       " ('โดย', 'COMP'),\n",
       " ('จะ', 'AUX'),\n",
       " ('ขอ', 'VV'),\n",
       " ('ลงนาม', 'VV'),\n",
       " ('ใน', 'P'),\n",
       " ('บันทึก', 'NN'),\n",
       " ('ความ', 'FXN'),\n",
       " ('เข้าใจ', 'VV'),\n",
       " ('(', 'PU'),\n",
       " ('MOU', 'FWN'),\n",
       " (')', 'PU'),\n",
       " ('ร่วม', 'VV'),\n",
       " ('กัน', 'REFX'),\n",
       " ('ว่า', 'COMP'),\n",
       " ('เป็น', 'VV'),\n",
       " ('เรื่อง', 'NN'),\n",
       " ('ที่', 'COMP'),\n",
       " ('คณะ', 'NN'),\n",
       " ('กรรมการ', 'NN'),\n",
       " ('การ', 'FXN'),\n",
       " ('เลือกตั้ง', 'VV'),\n",
       " (' ', 0),\n",
       " ('ซึ่ง', 'COMP'),\n",
       " ('นาย', 'NN'),\n",
       " ('อภิชาต', 'NR'),\n",
       " (' ', 0),\n",
       " ('สุขัคคานนท์', 'NR'),\n",
       " ('ประธาน', 'NN'),\n",
       " ('กกต.', 'NR'),\n",
       " ('ได้', 'AUX'),\n",
       " ('บอก', 'VV'),\n",
       " ('ว่า', 'COMP'),\n",
       " ('เรื่อง', 'NN'),\n",
       " ('ของ', 'P'),\n",
       " ('ความ', 'FXN'),\n",
       " ('ตกลง', 'VV'),\n",
       " ('ร่วมมือ', 'VV'),\n",
       " ('กัน', 'REFX'),\n",
       " ('มี', 'VV'),\n",
       " ('2', 'CD'),\n",
       " ('ลักษณะ', 'CL'),\n",
       " ('คือ', 'VV'),\n",
       " ('หาก', 'CNJ'),\n",
       " ('เป็น', 'VV'),\n",
       " ('ลักษณะ', 'NN'),\n",
       " ('ทั่วไป', 'ADV'),\n",
       " ('แล้ว', 'AUX'),\n",
       " ('จะ', 'AUX'),\n",
       " ('ไม่', 'NEG'),\n",
       " ('เข้า', 'VV'),\n",
       " ('มา', 'VV'),\n",
       " ('ยุ่งเกี่ยว', 'VV'),\n",
       " ('กับ', 'P'),\n",
       " ('เรื่อง', 'NN'),\n",
       " ('ของ', 'P'),\n",
       " ('ภาย', 'NN'),\n",
       " ('ใน', 'P'),\n",
       " ('คล้าย', 'VV'),\n",
       " ('ๆ', 'PU'),\n",
       " ('ผู้', 'FXN'),\n",
       " ('สังเกต', 'JJV'),\n",
       " ('การณ์', 'NN'),\n",
       " (' ', 0),\n",
       " ('ส่วน', 'CL'),\n",
       " ('อีก', 'ADV'),\n",
       " ('ลักษณะ', 'NN'),\n",
       " ('หนึ่ง', 'NN'),\n",
       " ('ที่', 'COMP'),\n",
       " ('ทาง', 'NN'),\n",
       " ('อียู', 'NR'),\n",
       " ('เสนอ', 'VV'),\n",
       " ('มา', 'VV'),\n",
       " ('นั้น', 'DDEM'),\n",
       " ('เป็น', 'VV'),\n",
       " ('ลักษณะ', 'NN'),\n",
       " ('ที่', 'COMP'),\n",
       " ('ขอ', 'VV'),\n",
       " ('เข้า', 'VV'),\n",
       " ('มา', 'VV'),\n",
       " ('ตรวจสอบ', 'VV'),\n",
       " ('เขา', 'PPER'),\n",
       " ('ไม่', 'NEG'),\n",
       " ('ได้', 'AUX'),\n",
       " ('ให้', 'COMP'),\n",
       " ('เหตุผล', 'NN'),\n",
       " ('นะ', 'PAR'),\n",
       " ('ครับ', 'PAR'),\n",
       " ('ซึ่ง', 'COMP'),\n",
       " ('เรา', 'PPER'),\n",
       " ('คง', 'AUX'),\n",
       " ('ไม่', 'NEG'),\n",
       " ('สามารถ', 'AUX'),\n",
       " ('จะ', 'AUX'),\n",
       " ('ยอมรับ', 'VV'),\n",
       " ('ได้', 'AUX'),\n",
       " ('เขา', 'PPER'),\n",
       " ('มา', 'VV'),\n",
       " ('ยุ่ง', 'NN'),\n",
       " ('เกี่ยว', 'VV'),\n",
       " ('กับ', 'P'),\n",
       " ('เรื่อง', 'NN'),\n",
       " ('ภาย', 'NN'),\n",
       " ('ใน', 'P'),\n",
       " ('ของ', 'P'),\n",
       " ('เรา', 'DPER'),\n",
       " ('มาก', 'JJA'),\n",
       " ('จน', 'CNJ'),\n",
       " ('เกิน', 'ADV'),\n",
       " ('ไป', 'VV'),\n",
       " (' ', 0),\n",
       " ('เรา', 'PPER'),\n",
       " ('ไม่', 'NEG'),\n",
       " ('ได้', 'AUX'),\n",
       " ('เป็น', 'VV'),\n",
       " ('ประเทศ', 'NN'),\n",
       " ('ที่', 'COMP'),\n",
       " ('ถือ', 'VV'),\n",
       " ('ว่า', 'COMP'),\n",
       " ('มี', 'VV'),\n",
       " ('ความ', 'FXN'),\n",
       " ('ล้มเหลว', 'VV'),\n",
       " ('ใน', 'P'),\n",
       " ('ด้าน', 'P'),\n",
       " ('การ', 'FXN'),\n",
       " ('บริหาร', 'VV'),\n",
       " ('ทุก', 'PDT'),\n",
       " ('สิ่ง', 'NN'),\n",
       " ('ทุก', 'PDT'),\n",
       " ('อย่าง', 'FXAV'),\n",
       " ('ของ', 'P'),\n",
       " ('เรา', 'DPER'),\n",
       " ('นี้', 'DDEM'),\n",
       " ('ยัง', 'AUX'),\n",
       " ('ดำเนิน', 'VV'),\n",
       " ('การ', 'NN'),\n",
       " ('ไป', 'VV'),\n",
       " ('ตาม', 'VV'),\n",
       " ('ปกติ', 'ADV'),\n",
       " ('เพราะฉะนั้น', 'CNJ'),\n",
       " ('ก็', 'AUX'),\n",
       " ('ไม่', 'NEG'),\n",
       " ('จำเป็น', 'VV'),\n",
       " ('ที่', 'COMP'),\n",
       " ('จะ', 'AUX'),\n",
       " ('ต้อง', 'AUX'),\n",
       " ('เข้า', 'VV'),\n",
       " ('มา', 'VV'),\n",
       " ('ตรวจสอบ', 'VV'),\n",
       " ('การ', 'FXN'),\n",
       " ('เลือกตั้ง', 'VV'),\n",
       " ('ของ', 'P'),\n",
       " ('เรา', 'DPER'),\n",
       " ('ใน', 'P'),\n",
       " ('ลักษณะ', 'NN'),\n",
       " ('ที่', 'COMP'),\n",
       " ('ว่า', 'COMP'),\n",
       " ('เป็น', 'VV'),\n",
       " ('ประเทศ', 'NN'),\n",
       " ('ที่', 'COMP'),\n",
       " ('มี', 'VV'),\n",
       " ('การ', 'FXN'),\n",
       " ('บริหาร', 'VV'),\n",
       " ('งาน', 'NN'),\n",
       " ('ล้มเหลว', 'VV'),\n",
       " ('นายก', 'NN'),\n",
       " ('รัฐมนตรี', 'NN'),\n",
       " (' ', 0),\n",
       " ('นายก', 'NN'),\n",
       " ('รัฐมนตรี', 'NN'),\n",
       " ('เชื่อ', 'VV'),\n",
       " ('ว่า', 'COMP'),\n",
       " ('การ', 'FXN'),\n",
       " ('ที่', 'COMP'),\n",
       " ('ประเทศ', 'NN'),\n",
       " ('ไทย', 'NR'),\n",
       " ('ยินยอม', 'VV'),\n",
       " ('ใน', 'P'),\n",
       " ('เรื่อง', 'NN'),\n",
       " ('การ', 'FXN'),\n",
       " ('ลงนาม', 'VV'),\n",
       " ('MOU', 'FWN'),\n",
       " ('จะ', 'AUX'),\n",
       " ('ไม่', 'NEG'),\n",
       " ('กระทบ', 'VV'),\n",
       " ('ต่อ', 'P'),\n",
       " ('ความ', 'FXN'),\n",
       " ('สัมพันธ์', 'VV'),\n",
       " ('ระหว่าง', 'P'),\n",
       " ('ประเทศ', 'NN'),\n",
       " ('ใน', 'P'),\n",
       " ('อียู', 'NR'),\n",
       " ('เพราะ', 'CNJ'),\n",
       " ('เป็น', 'VV'),\n",
       " ('สิทธิ', 'NN'),\n",
       " ('ของ', 'P'),\n",
       " ('เรา', 'DPER'),\n",
       " ('ที่', 'COMP'),\n",
       " ('จะ', 'AUX'),\n",
       " ('ยอม', 'VV'),\n",
       " ('ให้', 'COMP'),\n",
       " ('ใคร', 'PDEM'),\n",
       " ('เข้า', 'VV'),\n",
       " ('มา', 'VV'),\n",
       " ('ตรวจสอบ', 'VV'),\n",
       " ('อะไร', 'PINT'),\n",
       " ('หรือ', 'CNJ'),\n",
       " ('ไม่', 'NEG'),\n",
       " ('อย่างไร', 'PINT'),\n",
       " ('ซึ่ง', 'COMP'),\n",
       " ('สิ่ง', 'NN'),\n",
       " ('ที่', 'COMP'),\n",
       " ('รัฐบาล', 'NN'),\n",
       " ('ต้องการ', 'VV'),\n",
       " ('ยืนยัน', 'VV'),\n",
       " ('คือ', 'VV'),\n",
       " ('พร้อม', 'VV'),\n",
       " ('จะ', 'AUX'),\n",
       " ('สนับสนุน', 'VV'),\n",
       " ('คณะ', 'NN'),\n",
       " ('กรรมการ', 'NN'),\n",
       " ('การ', 'FXN'),\n",
       " ('เลือกตั้ง', 'VV'),\n",
       " ('ให้', 'COMP'),\n",
       " ('จัด', 'VV'),\n",
       " ('การ', 'FXN'),\n",
       " ('เลือกตั้ง', 'VV'),\n",
       " ('ให้', 'COMP'),\n",
       " ('ไป', 'VV'),\n",
       " ('อย่าง', 'FXAV'),\n",
       " ('บริสุทธิ์', 'JJA'),\n",
       " ('ยุติธรรม', 'ADV'),\n",
       " ('ซึ่ง', 'COMP'),\n",
       " ('จุด', 'NN'),\n",
       " ('นี้', 'DDEM'),\n",
       " ('ถือ', 'VV'),\n",
       " ('เป็น', 'VV'),\n",
       " ('ส่วน', 'NN'),\n",
       " ('สำคัญ', 'VV'),\n",
       " ('ที่', 'COMP'),\n",
       " ('ประชาชน', 'NN'),\n",
       " ('คน', 'NN'),\n",
       " ('ไทย', 'NR'),\n",
       " ('ก็', 'AUX'),\n",
       " ('ควร', 'AUX'),\n",
       " ('จะ', 'AUX'),\n",
       " ('มี', 'VV'),\n",
       " ('ส่วน', 'NN'),\n",
       " ('ร่วม', 'JJV'),\n",
       " ('ด้วย', 'P'),\n",
       " (' ', 0),\n",
       " ('ทั้งนี้', 'CNJ'),\n",
       " ('นอกจาก', 'P'),\n",
       " ('กกต.', 'NR'),\n",
       " ('ที่', 'COMP'),\n",
       " ('จะ', 'AUX'),\n",
       " ('มี', 'VV'),\n",
       " ('หน้าที่', 'NN'),\n",
       " ('ใน', 'P'),\n",
       " ('การ', 'FXN'),\n",
       " ('จัด', 'VV'),\n",
       " ('การ', 'FXN'),\n",
       " ('เลือกตั้ง', 'VV'),\n",
       " ('ให้', 'COMP'),\n",
       " ('บริสุทธิ์', 'VA'),\n",
       " ('ยุติธรรม', 'ADV'),\n",
       " ('แล้ว', 'AUX'),\n",
       " ('ยัง', 'AUX'),\n",
       " ('จะ', 'AUX'),\n",
       " ('มี', 'VV'),\n",
       " ('ส่วน', 'NN'),\n",
       " ('ราชการ', 'NN'),\n",
       " ('อื่น', 'DDEM'),\n",
       " ('ๆ', 'PU'),\n",
       " ('ที่', 'COMP'),\n",
       " ('เข้า', 'VV'),\n",
       " ('มา', 'VV'),\n",
       " ('ช่วย', 'VV'),\n",
       " ('อาทิ', 'CNJ'),\n",
       " ('สำนัก', 'NN'),\n",
       " ('งาน', 'NN'),\n",
       " ('ตำรวจ', 'NN'),\n",
       " ('แห่ง', 'P'),\n",
       " ('ชาติ', 'NN'),\n",
       " ('ประชาชน', 'NN'),\n",
       " ('เป็น', 'VV'),\n",
       " ('ผู้', 'FXN'),\n",
       " ('ตัดสินใจ', 'VV'),\n",
       " ('เลือก', 'VV'),\n",
       " ('พรรค', 'NN'),\n",
       " ('การ', 'NN'),\n",
       " ('เมือง', 'NN'),\n",
       " ('-', 'PU'),\n",
       " ('นัก', 'FXN'),\n",
       " ('การ', 'NN'),\n",
       " ('เมือง', 'NN')]"
      ]
     },
     "execution_count": 79,
     "metadata": {},
     "output_type": "execute_result"
    }
   ],
   "source": [
    "train_dataset.get_token_list(0)"
   ]
  },
  {
   "cell_type": "code",
   "execution_count": 52,
   "metadata": {},
   "outputs": [],
   "source": [
    "import constant\n",
    "char_index = index_builder(constant.CHARACTER_LIST, constant.CHAR_START_INDEX)\n",
    "tag_index = index_builder(constant.TAG_LIST, constant.TAG_START_INDEX)"
   ]
  },
  {
   "cell_type": "code",
   "execution_count": 77,
   "metadata": {},
   "outputs": [
    {
     "data": {
      "text/plain": [
       "34"
      ]
     },
     "execution_count": 77,
     "metadata": {},
     "output_type": "execute_result"
    }
   ],
   "source": [
    "len(tag_index)"
   ]
  },
  {
   "cell_type": "code",
   "execution_count": 60,
   "metadata": {},
   "outputs": [],
   "source": [
    "inb = InputBuilder(train_dataset, char_index,tag_index, 100)"
   ]
  },
  {
   "cell_type": "code",
   "execution_count": 61,
   "metadata": {},
   "outputs": [
    {
     "data": {
      "text/plain": [
       "17"
      ]
     },
     "execution_count": 61,
     "metadata": {},
     "output_type": "execute_result"
    }
   ],
   "source": [
    "len(inb.x)"
   ]
  },
  {
   "cell_type": "code",
   "execution_count": 68,
   "metadata": {},
   "outputs": [
    {
     "data": {
      "text/plain": [
       "array([41., 55., 36., 35., 55., 24., 25., 69., 35., 48., 26., 28., 16.,\n",
       "       51., 57., 41., 25., 37.,  8., 26., 49., 34., 72., 72., 72.,  2.,\n",
       "       48., 27., 44., 52., 35., 56., 61., 34., 63.,  2., 36., 47., 24.,\n",
       "       27., 41., 48., 34., 31., 48., 26., 25., 69., 75., 73., 75.,  2.,\n",
       "       48., 26., 35., 49., 35., 26., 75., 73., 73., 73., 73., 73., 73.,\n",
       "       74., 73., 73., 26., 74., 75., 26., 49., 35.,  2., 67., 75., 35.,\n",
       "       64., 50., 61., 34., 63., 37.,  8., 26., 49., 34., 60., 26., 72.,\n",
       "       72., 72., 36., 63., 38., 34.,  2., 48., 27.])"
      ]
     },
     "execution_count": 68,
     "metadata": {},
     "output_type": "execute_result"
    }
   ],
   "source": [
    "inb.x[0]"
   ]
  },
  {
   "cell_type": "code",
   "execution_count": 76,
   "metadata": {},
   "outputs": [
    {
     "data": {
      "text/plain": [
       "36"
      ]
     },
     "execution_count": 76,
     "metadata": {},
     "output_type": "execute_result"
    }
   ],
   "source": [
    "inb.y[0]"
   ]
  },
  {
   "cell_type": "code",
   "execution_count": 70,
   "metadata": {},
   "outputs": [
    {
     "data": {
      "text/plain": [
       "17"
      ]
     },
     "execution_count": 70,
     "metadata": {},
     "output_type": "execute_result"
    }
   ],
   "source": [
    "len(inb.y)"
   ]
  },
  {
   "cell_type": "code",
   "execution_count": 80,
   "metadata": {},
   "outputs": [],
   "source": [
    "x_true = train_dataset.get_char_list(0)\n",
    "encoded_x = inb.get_encoded_char_list(0)"
   ]
  },
  {
   "cell_type": "code",
   "execution_count": 83,
   "metadata": {},
   "outputs": [
    {
     "data": {
      "text/plain": [
       "4468"
      ]
     },
     "execution_count": 83,
     "metadata": {},
     "output_type": "execute_result"
    }
   ],
   "source": [
    "len(x_true)"
   ]
  },
  {
   "cell_type": "code",
   "execution_count": 85,
   "metadata": {},
   "outputs": [
    {
     "data": {
      "text/plain": [
       "array([[41., 55., 36., ..., 36., 47., 24.],\n",
       "       [27., 74., 72., ..., 26., 49., 35.],\n",
       "       [ 2., 74., 72., ..., 72., 74.,  2.],\n",
       "       ...,\n",
       "       [72., 72., 74., ..., 72., 72., 74.],\n",
       "       [72., 74., 22., ..., 72., 72., 74.],\n",
       "       [72., 74., 31., ...,  0.,  0.,  0.]])"
      ]
     },
     "execution_count": 85,
     "metadata": {},
     "output_type": "execute_result"
    }
   ],
   "source": [
    "encoded_x"
   ]
  }
 ],
 "metadata": {
  "kernelspec": {
   "display_name": "Python 3",
   "language": "python",
   "name": "python3"
  },
  "language_info": {
   "codemirror_mode": {
    "name": "ipython",
    "version": 3
   },
   "file_extension": ".py",
   "mimetype": "text/x-python",
   "name": "python",
   "nbconvert_exporter": "python",
   "pygments_lexer": "ipython3",
   "version": "3.5.0"
  }
 },
 "nbformat": 4,
 "nbformat_minor": 2
}
